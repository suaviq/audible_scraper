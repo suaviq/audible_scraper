{
 "cells": [
  {
   "cell_type": "code",
   "execution_count": null,
   "source": [
    "from bs4 import BeautifulSoup\r\n",
    "import requests\r\n",
    "from urllib.parse import urljoin\r\n",
    "from urllib.request import Request, urlopen\r\n",
    "import re\r\n",
    "from requests.models import parse_header_links"
   ],
   "outputs": [],
   "metadata": {}
  },
  {
   "cell_type": "code",
   "execution_count": null,
   "source": [
    "webpage ='https://www.audible.com/search?sort=popularity-rank&pageSize=50&ipRedirectOverride=true&overrideBaseCountry=true'\r\n",
    "html_text = requests.get(webpage).text\r\n",
    "#print(html_text)\r\n",
    "soup = BeautifulSoup(html_text, 'html.parser')\r\n",
    "titles = soup.find('div', class_ = 'adbl-impression-container')\r\n",
    "audiobooks = titles.findAll('li', class_ = \"\"\"bc-list-item\"\"\") #.text.replace('\\n','')\r\n",
    "samples = titles.findAll('button', class_ = 'bc-button-text')"
   ],
   "outputs": [],
   "metadata": {}
  },
  {
   "cell_type": "code",
   "execution_count": null,
   "source": [
    "for audiobook in audiobooks:\r\n",
    "    try:   \r\n",
    "        print(audiobook.find('li').text)\r\n",
    "    except:\r\n",
    "        continue"
   ],
   "outputs": [],
   "metadata": {}
  },
  {
   "cell_type": "code",
   "execution_count": null,
   "source": [
    "try:\r\n",
    "    n=0\r\n",
    "    print(samples[n]['data-mp3'])\r\n",
    "    n+=1\r\n",
    "except:\r\n",
    "    pass"
   ],
   "outputs": [],
   "metadata": {}
  }
 ],
 "metadata": {
  "interpreter": {
   "hash": "8739aa9c4a4f23f05d1514d63e01e0bed4e23e7450cdb78a0737ee286727453c"
  },
  "kernelspec": {
   "name": "python3",
   "display_name": "Python 3.9.6 64-bit"
  },
  "language_info": {
   "name": "python",
   "version": "3.9.6"
  },
  "orig_nbformat": 4
 },
 "nbformat": 4,
 "nbformat_minor": 2
}